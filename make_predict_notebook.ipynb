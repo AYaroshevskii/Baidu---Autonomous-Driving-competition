{
 "cells": [
  {
   "cell_type": "code",
   "execution_count": 1,
   "metadata": {},
   "outputs": [],
   "source": [
    "import os\n",
    "import pandas as pd\n",
    "from postprocessing import *\n",
    "import tqdm"
   ]
  },
  {
   "cell_type": "code",
   "execution_count": 2,
   "metadata": {},
   "outputs": [],
   "source": [
    "df_test = pd.read_csv('sample_submission.csv')"
   ]
  },
  {
   "cell_type": "code",
   "execution_count": 3,
   "metadata": {},
   "outputs": [
    {
     "name": "stdout",
     "output_type": "stream",
     "text": [
      "loading : b2_fold0.npy\n"
     ]
    }
   ],
   "source": [
    "confidences = []\n",
    "coordinates = []\n",
    "\n",
    "for i in os.listdir('inferences/'):\n",
    "    print ('loading : {}'.format(i))\n",
    "    \n",
    "    model_i = np.load('inferences/{}'.format(i))\n",
    "    \n",
    "    confidences.append(model_i[:,0,:,:])\n",
    "    coordinates.append(model_i[:,1:,:,:])"
   ]
  },
  {
   "cell_type": "code",
   "execution_count": 4,
   "metadata": {},
   "outputs": [],
   "source": [
    "pred = np.zeros((len(df_test), 8, 88, 200))\n",
    "\n",
    "pred[:,0,:,:] += ( sigmoid(np.array(confidences)) ).mean(0)\n",
    "pred[:,1:,:,:] += np.array(coordinates).mean(0)"
   ]
  },
  {
   "cell_type": "code",
   "execution_count": 5,
   "metadata": {},
   "outputs": [],
   "source": [
    "sub = []\n",
    "\n",
    "for x in pred:\n",
    "    coords = extract_coords(x, mode = 'ss', thr = 0.25)\n",
    "    s = coords2str(coords)\n",
    "    sub.append(s)\n",
    "    \n",
    "df_test['PredictionString'] = sub\n",
    "df_test.to_csv('submission_25thr.csv', index=False)"
   ]
  },
  {
   "cell_type": "code",
   "execution_count": 6,
   "metadata": {},
   "outputs": [
    {
     "data": {
      "text/html": [
       "<div>\n",
       "<style scoped>\n",
       "    .dataframe tbody tr th:only-of-type {\n",
       "        vertical-align: middle;\n",
       "    }\n",
       "\n",
       "    .dataframe tbody tr th {\n",
       "        vertical-align: top;\n",
       "    }\n",
       "\n",
       "    .dataframe thead th {\n",
       "        text-align: right;\n",
       "    }\n",
       "</style>\n",
       "<table border=\"1\" class=\"dataframe\">\n",
       "  <thead>\n",
       "    <tr style=\"text-align: right;\">\n",
       "      <th></th>\n",
       "      <th>ImageId</th>\n",
       "      <th>PredictionString</th>\n",
       "    </tr>\n",
       "  </thead>\n",
       "  <tbody>\n",
       "    <tr>\n",
       "      <td>0</td>\n",
       "      <td>ID_18fb86d04</td>\n",
       "      <td></td>\n",
       "    </tr>\n",
       "    <tr>\n",
       "      <td>1</td>\n",
       "      <td>ID_ce06d4dc1</td>\n",
       "      <td>0.14573433995246887 -0.015239596669607532 -3.0...</td>\n",
       "    </tr>\n",
       "    <tr>\n",
       "      <td>2</td>\n",
       "      <td>ID_afe07078f</td>\n",
       "      <td>0.1456189751625061 0.04981181133730978 -3.0922...</td>\n",
       "    </tr>\n",
       "    <tr>\n",
       "      <td>3</td>\n",
       "      <td>ID_37caf75aa</td>\n",
       "      <td>0.12743525207042694 -0.027784741896547883 -3.0...</td>\n",
       "    </tr>\n",
       "    <tr>\n",
       "      <td>4</td>\n",
       "      <td>ID_7655363ca</td>\n",
       "      <td>0.15024186670780182 -3.070042124691474 -3.1230...</td>\n",
       "    </tr>\n",
       "  </tbody>\n",
       "</table>\n",
       "</div>"
      ],
      "text/plain": [
       "        ImageId                                   PredictionString\n",
       "0  ID_18fb86d04                                                   \n",
       "1  ID_ce06d4dc1  0.14573433995246887 -0.015239596669607532 -3.0...\n",
       "2  ID_afe07078f  0.1456189751625061 0.04981181133730978 -3.0922...\n",
       "3  ID_37caf75aa  0.12743525207042694 -0.027784741896547883 -3.0...\n",
       "4  ID_7655363ca  0.15024186670780182 -3.070042124691474 -3.1230..."
      ]
     },
     "execution_count": 6,
     "metadata": {},
     "output_type": "execute_result"
    }
   ],
   "source": [
    "df_test.head()"
   ]
  }
 ],
 "metadata": {
  "kernelspec": {
   "display_name": "Python 3",
   "language": "python",
   "name": "python3"
  },
  "language_info": {
   "codemirror_mode": {
    "name": "ipython",
    "version": 3
   },
   "file_extension": ".py",
   "mimetype": "text/x-python",
   "name": "python",
   "nbconvert_exporter": "python",
   "pygments_lexer": "ipython3",
   "version": "3.6.8"
  }
 },
 "nbformat": 4,
 "nbformat_minor": 2
}
